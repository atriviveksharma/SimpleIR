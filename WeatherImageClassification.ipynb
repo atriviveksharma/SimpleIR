{
  "nbformat": 4,
  "nbformat_minor": 0,
  "metadata": {
    "accelerator": "GPU",
    "colab": {
      "name": "CodeNexus Interview Task.ipynb",
      "provenance": [],
      "collapsed_sections": [],
      "toc_visible": true
    },
    "kernelspec": {
      "display_name": "Python 3",
      "name": "python3"
    }
  },
  "cells": [
    {
      "cell_type": "markdown",
      "metadata": {
        "id": "N-gTRUCO7-zz"
      },
      "source": [
        "# Weather Image Classification\n",
        "\n",
        "In this notebook, a simple CNN model will be used to classify weather images using the training dataset found on https://data.mendeley.com/datasets/4drtyfjtfy/1"
      ]
    },
    {
      "cell_type": "markdown",
      "metadata": {
        "id": "ci55iXyl8ZyQ"
      },
      "source": [
        "**Importing packages**"
      ]
    },
    {
      "cell_type": "code",
      "metadata": {
        "id": "1xJZ5glPPCRz"
      },
      "source": [
        "import os\n",
        "\n",
        "import tensorflow as tf\n",
        "import numpy as np\n",
        "\n",
        "from tensorflow import keras\n",
        "\n",
        "from tensorflow.keras import layers\n",
        "from tensorflow.keras import Model\n",
        "import random"
      ],
      "execution_count": 4,
      "outputs": []
    },
    {
      "cell_type": "markdown",
      "metadata": {
        "id": "BueIEHkN8gSz"
      },
      "source": [
        "**Unzipping training dataset**\n",
        "\n",
        "\"Dataset\" is a single folder containing all images. Before training, dataset.zip needs to be uploaded onto the '/tmp' directory of the colab environment. "
      ]
    },
    {
      "cell_type": "code",
      "metadata": {
        "colab": {
          "base_uri": "https://localhost:8080/"
        },
        "id": "MA083_GcfSwb",
        "outputId": "a0056a48-a273-4e60-a4ec-b18b025e1b64"
      },
      "source": [
        "import os\n",
        "import zipfile\n",
        "\n",
        "local_zip = '/tmp/dataset.zip'\n",
        "\n",
        "\n",
        "from zipfile import ZipFile\n",
        "file_name = local_zip\n",
        "\n",
        "with ZipFile(file_name, 'r') as zip:\n",
        "  zip.extractall('/tmp')\n",
        "  print('Done')\n",
        "\n"
      ],
      "execution_count": 2,
      "outputs": [
        {
          "output_type": "stream",
          "text": [
            "Done\n"
          ],
          "name": "stdout"
        }
      ]
    },
    {
      "cell_type": "markdown",
      "metadata": {
        "id": "akvFENb389mH"
      },
      "source": [
        "# Data Sorting\n",
        "As the training dataset contains images of all classes in a single folder, dataset needs to be organised by creating a folder for each label. \n",
        "\n",
        "Furthermore, dataset needs to be split into training, validation and test sets with a data split of 90%, 7% and 3% respectively"
      ]
    },
    {
      "cell_type": "code",
      "metadata": {
        "id": "tlPSL5VCo6t9"
      },
      "source": [
        "class_names = ['cloudy','rain','shine','sunrise'] #Dataset Labels\n",
        "\n",
        "unsorted_data_dir = '/tmp/dataset' #Path to unsorted dataset \n",
        "image_list = os.listdir(unsorted_data_dir) #list of all images in the dataset\n",
        "\n",
        "random.shuffle(image_list) #Shuffling dataset to ensure training, validation and test sets contain similar quantities of each label\n",
        "\n",
        "total_data_length = len(image_list) \n",
        "\n",
        "training_data_index = int(0.9*total_data_length) #Index signifying end of training dataset \n",
        "validation_data_index = int(0.97*total_data_length) #Index signifying end of validation dataset \n",
        "\n"
      ],
      "execution_count": 5,
      "outputs": []
    },
    {
      "cell_type": "code",
      "metadata": {
        "id": "TfT9JcTrsDdR"
      },
      "source": [
        "#Creating Training Data Directory \n",
        "\n",
        "train_dir = '/tmp/Training' #training directory path\n",
        "os.mkdir(train_dir) #creating training directory \n",
        "\n",
        "for label in class_names:\n",
        "    label_dir = train_dir + '/' + label\n",
        "    os.mkdir(label_dir) #creating subfolders for each label\n",
        "\n",
        "    for i in range(0,training_data_index): \n",
        "    \n",
        "      img_name = image_list[i]\n",
        "\n",
        "      if label in img_name:\n",
        "        img_path = '/tmp/dataset/' + img_name \n",
        "        new_img_path = label_dir + '/' + img_name\n",
        "        os.rename(img_path,new_img_path) #moving image from unsorted to sorted dataset"
      ],
      "execution_count": 6,
      "outputs": []
    },
    {
      "cell_type": "code",
      "metadata": {
        "id": "gY4ZQECmsaQg"
      },
      "source": [
        "#Creating Validation Data Directory \n",
        "\n",
        "validation_dir = '/tmp/Validation'\n",
        "os.mkdir(validation_dir)\n",
        "\n",
        "for label in class_names:\n",
        "    label_dir = validation_dir + '/' + label\n",
        "    os.mkdir(label_dir)\n",
        "\n",
        "    for i in range(training_data_index,validation_data_index): \n",
        "    \n",
        "      img_name = image_list[i]\n",
        "\n",
        "      if label in img_name:\n",
        "        img_path = '/tmp/dataset/' + img_name\n",
        "        new_img_path = label_dir + '/' + img_name\n",
        "        os.rename(img_path,new_img_path)"
      ],
      "execution_count": 7,
      "outputs": []
    },
    {
      "cell_type": "code",
      "metadata": {
        "id": "xvRD0hBftwbd"
      },
      "source": [
        "#Creating Testing Data Directory \n",
        "\n",
        "test_dir = '/tmp/Test'\n",
        "os.mkdir(test_dir)\n",
        "\n",
        "for label in class_names:\n",
        "    label_dir = test_dir + '/' + label\n",
        "    os.mkdir(label_dir)\n",
        "\n",
        "    for i in range(validation_data_index,total_data_length): \n",
        "    \n",
        "      img_name = image_list[i]\n",
        "\n",
        "      if label in img_name:\n",
        "        img_path = '/tmp/dataset/' + img_name\n",
        "        new_img_path = label_dir + '/' + img_name\n",
        "        os.rename(img_path,new_img_path)"
      ],
      "execution_count": 8,
      "outputs": []
    },
    {
      "cell_type": "markdown",
      "metadata": {
        "id": "IGlp7YQ1-mnm"
      },
      "source": [
        "# Image Data Preprocessing using Keras ImageDataGenerator\n",
        "\n",
        "ImageDataGenerator package in Keras allows for easy preprocessing of image data, where it automatically accounts for variations in image sizes and aspect ratio and allows for easy data augmentation. \n",
        "\n",
        "For this task, a target image size of 300x300 pixels was selected as a compromise between training computational cost and accuracy. "
      ]
    },
    {
      "cell_type": "code",
      "metadata": {
        "id": "O4s8HckqGlnb",
        "colab": {
          "base_uri": "https://localhost:8080/"
        },
        "outputId": "f7722845-b141-40b4-f073-bd0290406ad0"
      },
      "source": [
        "from tensorflow.keras.preprocessing.image import ImageDataGenerator\n",
        "\n",
        "\n",
        "train_datagen = ImageDataGenerator(rescale = 1./255. )\n",
        "                                 # ,rotation_range = 40,\n",
        "                                  # width_shift_range = 0.2,\n",
        "                                  # height_shift_range = 0.2,\n",
        "                                  # shear_range = 0.2,\n",
        "                                  # zoom_range = 0.2,\n",
        "                                  # horizontal_flip = True)\n",
        "\n",
        "\n",
        "\n",
        "test_datagen = ImageDataGenerator( rescale = 1.0/255. )\n",
        "\n",
        "# Flow training images in batches of 20 using train_datagen generator\n",
        "train_generator = train_datagen.flow_from_directory(train_dir,\n",
        "                                                    batch_size = 20,\n",
        "                                                    class_mode = 'categorical', \n",
        "                                                    target_size = (300, 300))     \n",
        "\n",
        "# Flow validation images in batches of 20 using test_datagen generator\n",
        "validation_generator =  test_datagen.flow_from_directory( validation_dir,\n",
        "                                                          batch_size  = 20,\n",
        "                                                          class_mode  = 'categorical', \n",
        "                                                          target_size = (300, 300))"
      ],
      "execution_count": 47,
      "outputs": [
        {
          "output_type": "stream",
          "text": [
            "Found 1012 images belonging to 4 classes.\n",
            "Found 79 images belonging to 4 classes.\n"
          ],
          "name": "stdout"
        }
      ]
    },
    {
      "cell_type": "markdown",
      "metadata": {
        "id": "WFm5DqWY_hnf"
      },
      "source": [
        "# Model Definition and Training\n",
        "\n",
        "A CNN architecture with 4 convolutional layers and two dense layers was used. The model is trained entirely from scratch using the training data provided - better accuracy could perhaps be obtained using pre-trained models however due to time contstraints these were not considered. \n",
        "\n",
        "It is important to note that this is a basic model with a lot of room for further tuning (number of convolutional layers, number of filters in each layer, etc., batch size, learning rate, optimiser, etc.) "
      ]
    },
    {
      "cell_type": "code",
      "metadata": {
        "id": "apzxYI3RS37Q"
      },
      "source": [
        "model = tf.keras.models.Sequential([\n",
        "    \n",
        "    \n",
        "    tf.keras.layers.Conv2D(64, (3,3), activation='relu', input_shape=(300, 300, 3)),\n",
        "    tf.keras.layers.MaxPooling2D(2, 2),\n",
        "    # The second convolution\n",
        "    tf.keras.layers.Conv2D(64, (3,3), activation='relu'),\n",
        "    tf.keras.layers.MaxPooling2D(2,2),\n",
        "    # The third convolution\n",
        "    tf.keras.layers.Conv2D(128, (3,3), activation='relu'),\n",
        "    tf.keras.layers.MaxPooling2D(2,2),\n",
        "    # The fourth convolution\n",
        "    tf.keras.layers.Conv2D(128, (3,3), activation='relu'),\n",
        "    tf.keras.layers.MaxPooling2D(2,2),\n",
        "    # Flatten the results to feed into a DNN\n",
        "    tf.keras.layers.Flatten(),\n",
        "    tf.keras.layers.Dropout(0.5),\n",
        "    # 512 neuron hidden layer\n",
        "    tf.keras.layers.Dense(512, activation='relu'),\n",
        "    tf.keras.layers.Dense(4, activation='softmax') #Four neurons and a softmax activation for output probabilities\n",
        "])"
      ],
      "execution_count": 55,
      "outputs": []
    },
    {
      "cell_type": "code",
      "metadata": {
        "colab": {
          "base_uri": "https://localhost:8080/"
        },
        "id": "9fHHPi68S-GO",
        "outputId": "676bc412-7fa3-46ec-b653-972ceb7287a6"
      },
      "source": [
        "model.summary()\n",
        "\n",
        "model.compile(loss = 'categorical_crossentropy', optimizer='rmsprop', metrics=['accuracy'])"
      ],
      "execution_count": 56,
      "outputs": [
        {
          "output_type": "stream",
          "text": [
            "Model: \"sequential_3\"\n",
            "_________________________________________________________________\n",
            "Layer (type)                 Output Shape              Param #   \n",
            "=================================================================\n",
            "conv2d_12 (Conv2D)           (None, 298, 298, 64)      1792      \n",
            "_________________________________________________________________\n",
            "max_pooling2d_12 (MaxPooling (None, 149, 149, 64)      0         \n",
            "_________________________________________________________________\n",
            "conv2d_13 (Conv2D)           (None, 147, 147, 64)      36928     \n",
            "_________________________________________________________________\n",
            "max_pooling2d_13 (MaxPooling (None, 73, 73, 64)        0         \n",
            "_________________________________________________________________\n",
            "conv2d_14 (Conv2D)           (None, 71, 71, 128)       73856     \n",
            "_________________________________________________________________\n",
            "max_pooling2d_14 (MaxPooling (None, 35, 35, 128)       0         \n",
            "_________________________________________________________________\n",
            "conv2d_15 (Conv2D)           (None, 33, 33, 128)       147584    \n",
            "_________________________________________________________________\n",
            "max_pooling2d_15 (MaxPooling (None, 16, 16, 128)       0         \n",
            "_________________________________________________________________\n",
            "flatten_3 (Flatten)          (None, 32768)             0         \n",
            "_________________________________________________________________\n",
            "dropout_3 (Dropout)          (None, 32768)             0         \n",
            "_________________________________________________________________\n",
            "dense_6 (Dense)              (None, 512)               16777728  \n",
            "_________________________________________________________________\n",
            "dense_7 (Dense)              (None, 4)                 2052      \n",
            "=================================================================\n",
            "Total params: 17,039,940\n",
            "Trainable params: 17,039,940\n",
            "Non-trainable params: 0\n",
            "_________________________________________________________________\n"
          ],
          "name": "stdout"
        }
      ]
    },
    {
      "cell_type": "code",
      "metadata": {
        "id": "Blhq2MAUeyGA",
        "colab": {
          "base_uri": "https://localhost:8080/"
        },
        "outputId": "66a4d24d-0fdf-47ce-c97b-5ad0a3830b63"
      },
      "source": [
        "history = model.fit(\n",
        "            train_generator,\n",
        "            validation_data = validation_generator,\n",
        "            #steps_per_epoch = 50,\n",
        "            epochs = 20,\n",
        "           # validation_steps = 50,\n",
        "            verbose = 1)"
      ],
      "execution_count": 57,
      "outputs": [
        {
          "output_type": "stream",
          "text": [
            "Epoch 1/20\n",
            "51/51 [==============================] - 9s 169ms/step - loss: 3.7559 - accuracy: 0.3480 - val_loss: 0.7417 - val_accuracy: 0.8481\n",
            "Epoch 2/20\n",
            "51/51 [==============================] - 9s 168ms/step - loss: 0.8443 - accuracy: 0.6787 - val_loss: 0.4785 - val_accuracy: 0.8734\n",
            "Epoch 3/20\n",
            "51/51 [==============================] - 9s 169ms/step - loss: 0.6951 - accuracy: 0.7309 - val_loss: 0.4898 - val_accuracy: 0.8101\n",
            "Epoch 4/20\n",
            "51/51 [==============================] - 9s 171ms/step - loss: 0.5089 - accuracy: 0.7895 - val_loss: 0.5920 - val_accuracy: 0.8481\n",
            "Epoch 5/20\n",
            "51/51 [==============================] - 9s 168ms/step - loss: 0.6113 - accuracy: 0.7853 - val_loss: 0.4988 - val_accuracy: 0.8608\n",
            "Epoch 6/20\n",
            "51/51 [==============================] - 9s 169ms/step - loss: 0.5341 - accuracy: 0.8272 - val_loss: 0.4204 - val_accuracy: 0.8734\n",
            "Epoch 7/20\n",
            "51/51 [==============================] - 9s 165ms/step - loss: 0.3766 - accuracy: 0.8458 - val_loss: 0.3845 - val_accuracy: 0.9241\n",
            "Epoch 8/20\n",
            "51/51 [==============================] - 9s 170ms/step - loss: 0.3168 - accuracy: 0.8817 - val_loss: 0.3813 - val_accuracy: 0.9367\n",
            "Epoch 9/20\n",
            "51/51 [==============================] - 9s 165ms/step - loss: 0.3607 - accuracy: 0.8775 - val_loss: 0.3401 - val_accuracy: 0.9241\n",
            "Epoch 10/20\n",
            "51/51 [==============================] - 9s 169ms/step - loss: 0.5046 - accuracy: 0.8832 - val_loss: 0.3828 - val_accuracy: 0.9367\n",
            "Epoch 11/20\n",
            "51/51 [==============================] - 9s 168ms/step - loss: 0.1987 - accuracy: 0.9442 - val_loss: 0.4311 - val_accuracy: 0.9114\n",
            "Epoch 12/20\n",
            "51/51 [==============================] - 9s 166ms/step - loss: 0.1611 - accuracy: 0.9415 - val_loss: 1.3166 - val_accuracy: 0.8354\n",
            "Epoch 13/20\n",
            "51/51 [==============================] - 9s 167ms/step - loss: 0.3155 - accuracy: 0.9276 - val_loss: 0.3356 - val_accuracy: 0.9114\n",
            "Epoch 14/20\n",
            "51/51 [==============================] - 9s 169ms/step - loss: 0.2809 - accuracy: 0.9518 - val_loss: 0.2188 - val_accuracy: 0.9620\n",
            "Epoch 15/20\n",
            "51/51 [==============================] - 9s 168ms/step - loss: 0.1237 - accuracy: 0.9592 - val_loss: 0.4561 - val_accuracy: 0.9114\n",
            "Epoch 16/20\n",
            "51/51 [==============================] - 9s 168ms/step - loss: 0.4483 - accuracy: 0.9608 - val_loss: 0.4395 - val_accuracy: 0.8987\n",
            "Epoch 17/20\n",
            "51/51 [==============================] - 9s 168ms/step - loss: 0.1115 - accuracy: 0.9651 - val_loss: 0.8668 - val_accuracy: 0.9367\n",
            "Epoch 18/20\n",
            "51/51 [==============================] - 9s 162ms/step - loss: 0.2139 - accuracy: 0.9464 - val_loss: 0.3689 - val_accuracy: 0.9241\n",
            "Epoch 19/20\n",
            "51/51 [==============================] - 9s 168ms/step - loss: 0.1240 - accuracy: 0.9668 - val_loss: 1.1100 - val_accuracy: 0.9114\n",
            "Epoch 20/20\n",
            "51/51 [==============================] - 9s 167ms/step - loss: 0.2559 - accuracy: 0.9311 - val_loss: 1.9820 - val_accuracy: 0.8608\n"
          ],
          "name": "stdout"
        }
      ]
    },
    {
      "cell_type": "markdown",
      "metadata": {
        "id": "MUZm-VZsAvuw"
      },
      "source": [
        "**Visualising Training and Validation accuracy**"
      ]
    },
    {
      "cell_type": "code",
      "metadata": {
        "id": "C2Fp6Se9rKuL",
        "colab": {
          "base_uri": "https://localhost:8080/",
          "height": 298
        },
        "outputId": "37fe7e03-6f23-4551-cfab-dadd73dfbc2b"
      },
      "source": [
        "import matplotlib.pyplot as plt\n",
        "acc = history.history['accuracy']\n",
        "val_acc = history.history['val_accuracy']\n",
        "loss = history.history['loss']\n",
        "val_loss = history.history['val_loss']\n",
        "\n",
        "epochs = range(len(acc))\n",
        "\n",
        "plt.plot(epochs, acc, 'r', label='Training accuracy')\n",
        "plt.plot(epochs, val_acc, 'b', label='Validation accuracy')\n",
        "plt.title('Training and validation accuracy')\n",
        "plt.legend(loc=0)\n",
        "plt.figure()\n",
        "\n",
        "\n",
        "plt.show()"
      ],
      "execution_count": 51,
      "outputs": [
        {
          "output_type": "display_data",
          "data": {
            "image/png": "[encoded data removed]",
            "text/plain": [
              "<Figure size 432x288 with 1 Axes>"
            ]
          },
          "metadata": {
            "tags": [],
            "needs_background": "light"
          }
        },
        {
          "output_type": "display_data",
          "data": {
            "text/plain": [
              "<Figure size 432x288 with 0 Axes>"
            ]
          },
          "metadata": {
            "tags": []
          }
        }
      ]
    },
    {
      "cell_type": "markdown",
      "metadata": {
        "id": "okED30NKA2XF"
      },
      "source": [
        "# Evaluating Model Performance\n",
        "\n"
      ]
    },
    {
      "cell_type": "code",
      "metadata": {
        "id": "obUz1xkWn9eH",
        "colab": {
          "base_uri": "https://localhost:8080/"
        },
        "outputId": "a417aeb6-e680-408b-d693-7d28610b870b"
      },
      "source": [
        "#Initialising variables and lists to calculate accuracy\n",
        "\n",
        "true_labels = []\n",
        "pred_labels = []\n",
        "\n",
        "correct = 0\n",
        "total = 0\n",
        "\n",
        "for label in class_names: #Opening images by label \n",
        "    label_dir = test_dir + '/' + label\n",
        "\n",
        "    image_list = os.listdir(label_dir)\n",
        "\n",
        "    for img_name in image_list:\n",
        "      img_path = label_dir + '/' + img_name\n",
        "\n",
        "      img = keras.preprocessing.image.load_img(\n",
        "      img_path, target_size=(300, 300))\n",
        "\n",
        "      img_array = keras.preprocessing.image.img_to_array(img)\n",
        "      img_array = tf.expand_dims(img_array, 0) \n",
        "\n",
        "      prediction = model.predict(img_array)\n",
        "\n",
        "      true_labels.append(label)\n",
        "      pred_labels.append(class_names[np.argmax(prediction)])\n",
        "\n",
        "      if class_names[np.argmax(prediction)] == label:\n",
        "          correct +=1 #Counter for correct classifications\n",
        "\n",
        "      total +=1 \n",
        "\n",
        "      #print(\n",
        "      #img_name + \" most likely belongs to {} with a {:.2f} percent confidence.\"\n",
        "      #.format(class_names[np.argmax(prediction)], 100 * np.max(prediction)))\n",
        "\n",
        "print('Test Accuracy is {:.2f}%'.format(100*correct/total))"
      ],
      "execution_count": 58,
      "outputs": [
        {
          "output_type": "stream",
          "text": [
            "cloudy258.jpg most likely belongs to rain with a 100.00 percent confidence.\n",
            "cloudy166.jpg most likely belongs to sunrise with a 100.00 percent confidence.\n",
            "cloudy73.jpg most likely belongs to cloudy with a 100.00 percent confidence.\n",
            "cloudy97.jpg most likely belongs to cloudy with a 100.00 percent confidence.\n",
            "cloudy119.jpg most likely belongs to shine with a 100.00 percent confidence.\n",
            "cloudy181.jpg most likely belongs to cloudy with a 100.00 percent confidence.\n",
            "cloudy126.jpg most likely belongs to shine with a 100.00 percent confidence.\n",
            "rain13.jpg most likely belongs to rain with a 100.00 percent confidence.\n",
            "rain185.jpg most likely belongs to rain with a 100.00 percent confidence.\n",
            "rain69.jpg most likely belongs to rain with a 100.00 percent confidence.\n",
            "rain82.jpg most likely belongs to rain with a 100.00 percent confidence.\n",
            "rain206.jpg most likely belongs to rain with a 100.00 percent confidence.\n",
            "rain127.jpg most likely belongs to rain with a 100.00 percent confidence.\n",
            "shine150.jpg most likely belongs to rain with a 100.00 percent confidence.\n",
            "shine84.jpg most likely belongs to shine with a 100.00 percent confidence.\n",
            "shine136.jpg most likely belongs to shine with a 100.00 percent confidence.\n",
            "shine204.jpg most likely belongs to shine with a 100.00 percent confidence.\n",
            "shine55.jpg most likely belongs to shine with a 100.00 percent confidence.\n",
            "shine220.jpg most likely belongs to shine with a 100.00 percent confidence.\n",
            "shine117.jpg most likely belongs to shine with a 100.00 percent confidence.\n",
            "shine28.jpg most likely belongs to shine with a 100.00 percent confidence.\n",
            "sunrise225.jpg most likely belongs to sunrise with a 100.00 percent confidence.\n",
            "sunrise78.jpg most likely belongs to sunrise with a 100.00 percent confidence.\n",
            "sunrise208.jpg most likely belongs to sunrise with a 100.00 percent confidence.\n",
            "sunrise23.jpg most likely belongs to sunrise with a 100.00 percent confidence.\n",
            "sunrise211.jpg most likely belongs to sunrise with a 100.00 percent confidence.\n",
            "sunrise177.jpg most likely belongs to sunrise with a 100.00 percent confidence.\n",
            "sunrise350.jpg most likely belongs to sunrise with a 100.00 percent confidence.\n",
            "sunrise212.jpg most likely belongs to sunrise with a 100.00 percent confidence.\n",
            "sunrise272.jpg most likely belongs to sunrise with a 100.00 percent confidence.\n",
            "sunrise224.jpg most likely belongs to sunrise with a 100.00 percent confidence.\n",
            "sunrise334.jpg most likely belongs to sunrise with a 100.00 percent confidence.\n",
            "sunrise344.jpg most likely belongs to sunrise with a 100.00 percent confidence.\n",
            "sunrise310.jpg most likely belongs to sunrise with a 100.00 percent confidence.\n",
            "Test Accuracy is 85.29%\n"
          ],
          "name": "stdout"
        }
      ]
    },
    {
      "cell_type": "markdown",
      "metadata": {
        "id": "lL9XfDkHBkfN"
      },
      "source": [
        "**Confusion Matrix**"
      ]
    },
    {
      "cell_type": "code",
      "metadata": {
        "colab": {
          "base_uri": "https://localhost:8080/",
          "height": 606
        },
        "id": "3rkNasDV5HyK",
        "outputId": "a70432e8-3c4f-43f1-9523-2187afd53b2f"
      },
      "source": [
        "import pandas as pd\n",
        "import seaborn as sn\n",
        "import matplotlib.pyplot as plt\n",
        "\n",
        "data = {'y_Actual':    true_labels,\n",
        "        'y_Predicted': pred_labels\n",
        "        }\n",
        "\n",
        "df = pd.DataFrame(data, columns=['y_Actual','y_Predicted'])\n",
        "confusion_matrix = pd.crosstab(df['y_Actual'], df['y_Predicted'], rownames=['Actual'], colnames=['Predicted'])\n",
        "\n",
        "fig_dims = (12, 10)\n",
        "fig, ax = plt.subplots(figsize=fig_dims)\n",
        "\n",
        "sn.heatmap(confusion_matrix, annot=True, ax = ax)\n",
        "plt.show()"
      ],
      "execution_count": 60,
      "outputs": [
        {
          "output_type": "display_data",
          "data": {
            "image/png": "[encoded data removed]",
            "text/plain": [
              "<Figure size 864x720 with 2 Axes>"
            ]
          },
          "metadata": {
            "tags": [],
            "needs_background": "light"
          }
        }
      ]
    },
    {
      "cell_type": "markdown",
      "metadata": {
        "id": "uxXpbTxLBoBa"
      },
      "source": [
        "# Section for user to upload and classify images "
      ]
    },
    {
      "cell_type": "code",
      "metadata": {
        "colab": {
          "resources": {
            "http://localhost:8080/nbextensions/google.colab/files.js": {
              "data": "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",
              "ok": true,
              "headers": [
                [
                  "content-type",
                  "application/javascript"
                ]
              ],
              "status": 200,
              "status_text": ""
            }
          },
          "base_uri": "https://localhost:8080/",
          "height": 90
        },
        "id": "MftjdQNc-e4T",
        "outputId": "8668ff11-ca9c-4517-cdec-9344b6701b9b"
      },
      "source": [
        "from google.colab import files\n",
        "\n",
        "uploaded = files.upload()\n",
        "\n",
        "for fn in uploaded.keys():\n",
        " \n",
        "  img_path = '/content/' + fn\n",
        "  \n",
        "  img = keras.preprocessing.image.load_img(\n",
        "  img_path, target_size=(300, 300))\n",
        "\n",
        "  img_array = keras.preprocessing.image.img_to_array(img)\n",
        "  img_array = tf.expand_dims(img_array, 0) \n",
        "\n",
        "  prediction = model.predict(img_array)\n",
        "  \n",
        "\n",
        "  print(\n",
        "      fn + \" most likely belongs to {} with a {:.2f} percent confidence.\"\n",
        "      .format(class_names[np.argmax(prediction)], 100 * np.max(prediction)))\n"
      ],
      "execution_count": 27,
      "outputs": [
        {
          "output_type": "display_data",
          "data": {
            "text/html": [
              "\n",
              "     <input type=\"file\" id=\"files-6a7d62d4-c901-42f2-8383-4272e6044a43\" name=\"files[]\" multiple disabled\n",
              "        style=\"border:none\" />\n",
              "     <output id=\"result-6a7d62d4-c901-42f2-8383-4272e6044a43\">\n",
              "      Upload widget is only available when the cell has been executed in the\n",
              "      current browser session. Please rerun this cell to enable.\n",
              "      </output>\n",
              "      <script src=\"/nbextensions/google.colab/files.js\"></script> "
            ],
            "text/plain": [
              "<IPython.core.display.HTML object>"
            ]
          },
          "metadata": {
            "tags": []
          }
        },
        {
          "output_type": "stream",
          "text": [
            "Saving cloudy255.jpg to cloudy255 (1).jpg\n",
            "cloudy255.jpg most likely belongs to cloudy with a 100.00 percent confidence.\n"
          ],
          "name": "stdout"
        }
      ]
    }
  ]
}