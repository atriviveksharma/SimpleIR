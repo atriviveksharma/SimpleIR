{
  "nbformat": 4,
  "nbformat_minor": 0,
  "metadata": {
    "accelerator": "GPU",
    "colab": {
      "name": "CodeNexus Interview Task.ipynb",
      "provenance": [],
      "collapsed_sections": [],
      "toc_visible": true
    },
    "kernelspec": {
      "display_name": "Python 3",
      "name": "python3"
    }
  },
  "cells": [
    {
      "cell_type": "markdown",
      "metadata": {
        "id": "N-gTRUCO7-zz"
      },
      "source": [
        "# Weather Image Classification\n",
        "\n",
        "In this notebook, a simple CNN model will be used to classify weather images using the training dataset found on https://data.mendeley.com/datasets/4drtyfjtfy/1"
      ]
    },
    {
      "cell_type": "markdown",
      "metadata": {
        "id": "ci55iXyl8ZyQ"
      },
      "source": [
        "**Importing packages**"
      ]
    },
    {
      "cell_type": "code",
      "metadata": {
        "id": "1xJZ5glPPCRz"
      },
      "source": [
        "import os\n",
        "\n",
        "import tensorflow as tf\n",
        "import numpy as np\n",
        "\n",
        "from tensorflow import keras\n",
        "\n",
        "from tensorflow.keras import layers\n",
        "from tensorflow.keras import Model\n",
        "import random"
      ],
      "execution_count": 1,
      "outputs": []
    },
    {
      "cell_type": "markdown",
      "metadata": {
        "id": "BueIEHkN8gSz"
      },
      "source": [
        "**Unzipping training dataset**\n",
        "\n",
        "dataset.zip is a compressed folder containing all training images and needs to be uploaded onto the '/tmp' directory of the colab environment. "
      ]
    },
    {
      "cell_type": "code",
      "metadata": {
        "colab": {
          "base_uri": "https://localhost:8080/"
        },
        "id": "MA083_GcfSwb",
        "outputId": "472f4094-b469-4219-8090-402c2deaadd7"
      },
      "source": [
        "import os\n",
        "import zipfile\n",
        "\n",
        "local_zip = '/tmp/dataset.zip'\n",
        "\n",
        "\n",
        "from zipfile import ZipFile\n",
        "file_name = local_zip\n",
        "\n",
        "with ZipFile(file_name, 'r') as zip:\n",
        "  zip.extractall('/tmp')\n",
        "  print('Done')\n",
        "\n"
      ],
      "execution_count": 2,
      "outputs": [
        {
          "output_type": "stream",
          "text": [
            "Done\n"
          ],
          "name": "stdout"
        }
      ]
    },
    {
      "cell_type": "markdown",
      "metadata": {
        "id": "akvFENb389mH"
      },
      "source": [
        "# Data Sorting\n",
        "As the training dataset contains images of all classes in a single folder, it needs to be organised by creating a folder for each label. \n",
        "\n",
        "Furthermore, the dataset needs to be split into training, validation and test sets with a data split of 90%, 7% and 3% respectively"
      ]
    },
    {
      "cell_type": "code",
      "metadata": {
        "id": "tlPSL5VCo6t9"
      },
      "source": [
        "class_names = ['cloudy','rain','shine','sunrise'] #Dataset Labels\n",
        "\n",
        "unsorted_data_dir = '/tmp/dataset' #Path to unsorted dataset \n",
        "image_list = os.listdir(unsorted_data_dir) #list of all images in the dataset\n",
        "\n",
        "random.shuffle(image_list) #Shuffling dataset to ensure training, validation and test sets contain similar quantities of each label\n",
        "\n",
        "total_data_length = len(image_list) \n",
        "\n",
        "training_data_index = int(0.90*total_data_length) #Index signifying end of training dataset \n",
        "validation_data_index = int(0.97*total_data_length) #Index signifying end of validation dataset \n",
        "\n"
      ],
      "execution_count": 3,
      "outputs": []
    },
    {
      "cell_type": "code",
      "metadata": {
        "id": "TfT9JcTrsDdR"
      },
      "source": [
        "#Creating Training Data Directory \n",
        "\n",
        "train_dir = '/tmp/Training' #training directory path\n",
        "os.mkdir(train_dir) #creating training directory \n",
        "\n",
        "for label in class_names:\n",
        "    label_dir = train_dir + '/' + label\n",
        "    os.mkdir(label_dir) #creating subfolders for each label\n",
        "\n",
        "    for i in range(0,training_data_index): \n",
        "    \n",
        "      img_name = image_list[i]\n",
        "\n",
        "      if label in img_name:\n",
        "        img_path = '/tmp/dataset/' + img_name \n",
        "        new_img_path = label_dir + '/' + img_name\n",
        "        os.rename(img_path,new_img_path) #moving image from unsorted to sorted dataset"
      ],
      "execution_count": 4,
      "outputs": []
    },
    {
      "cell_type": "code",
      "metadata": {
        "id": "gY4ZQECmsaQg"
      },
      "source": [
        "#Creating Validation Data Directory \n",
        "\n",
        "validation_dir = '/tmp/Validation'\n",
        "os.mkdir(validation_dir)\n",
        "\n",
        "for label in class_names:\n",
        "    label_dir = validation_dir + '/' + label\n",
        "    os.mkdir(label_dir)\n",
        "\n",
        "    for i in range(training_data_index,validation_data_index): \n",
        "    \n",
        "      img_name = image_list[i]\n",
        "\n",
        "      if label in img_name:\n",
        "        img_path = '/tmp/dataset/' + img_name\n",
        "        new_img_path = label_dir + '/' + img_name\n",
        "        os.rename(img_path,new_img_path)"
      ],
      "execution_count": 5,
      "outputs": []
    },
    {
      "cell_type": "code",
      "metadata": {
        "id": "xvRD0hBftwbd"
      },
      "source": [
        "#Creating Testing Data Directory \n",
        "\n",
        "test_dir = '/tmp/Test'\n",
        "os.mkdir(test_dir)\n",
        "\n",
        "for label in class_names:\n",
        "    label_dir = test_dir + '/' + label\n",
        "    os.mkdir(label_dir)\n",
        "\n",
        "    for i in range(validation_data_index,total_data_length): \n",
        "    \n",
        "      img_name = image_list[i]\n",
        "\n",
        "      if label in img_name:\n",
        "        img_path = '/tmp/dataset/' + img_name\n",
        "        new_img_path = label_dir + '/' + img_name\n",
        "        os.rename(img_path,new_img_path)"
      ],
      "execution_count": 6,
      "outputs": []
    },
    {
      "cell_type": "markdown",
      "metadata": {
        "id": "IGlp7YQ1-mnm"
      },
      "source": [
        "# Image Data Preprocessing using Keras ImageDataGenerator\n",
        "\n",
        "ImageDataGenerator package in Keras allows for easy preprocessing of image data, where it automatically accounts for variations in image sizes and aspect ratio and allows for easy data augmentation. \n",
        "\n",
        "For this task, a target image size of 300x300 pixels was selected as a compromise between training computational cost and accuracy. "
      ]
    },
    {
      "cell_type": "code",
      "metadata": {
        "id": "O4s8HckqGlnb",
        "colab": {
          "base_uri": "https://localhost:8080/"
        },
        "outputId": "e9052f6c-0f41-408a-ffc6-7ba90f5d5e55"
      },
      "source": [
        "from tensorflow.keras.preprocessing.image import ImageDataGenerator\n",
        "\n",
        "\n",
        "train_datagen = ImageDataGenerator(rescale = 1./255. ) #Pixel intensity values rescaled from 0-255 to 0-1\n",
        "                               \n",
        "valid_datagen = ImageDataGenerator( rescale = 1.0/255. )\n",
        "\n",
        "# Flow training images in batches of 20 using train_datagen generator\n",
        "train_generator = train_datagen.flow_from_directory(train_dir,\n",
        "                                                    batch_size = 20,\n",
        "                                                    class_mode = 'categorical', \n",
        "                                                    target_size = (300, 300))     \n",
        "\n",
        "# Flow validation images in batches of 20 using test_datagen generator\n",
        "validation_generator =  valid_datagen.flow_from_directory( validation_dir,\n",
        "                                                          batch_size  = 20,\n",
        "                                                          class_mode  = 'categorical', \n",
        "                                                          target_size = (300, 300))"
      ],
      "execution_count": 7,
      "outputs": [
        {
          "output_type": "stream",
          "text": [
            "Found 1012 images belonging to 4 classes.\n",
            "Found 79 images belonging to 4 classes.\n"
          ],
          "name": "stdout"
        }
      ]
    },
    {
      "cell_type": "markdown",
      "metadata": {
        "id": "WFm5DqWY_hnf"
      },
      "source": [
        "# Model Definition and Training\n",
        "\n",
        "A CNN architecture with 4 convolutional layers and two dense layers was used. The model is trained entirely from scratch using the training data provided - better accuracy could perhaps be obtained using pre-trained models however due to time contstraints these were not considered. \n",
        "\n",
        "It is important to note that this is a basic model with a lot of room for further tuning (number of convolutional layers, number of filters in each layer, batch size, learning rate, optimiser, etc.) "
      ]
    },
    {
      "cell_type": "code",
      "metadata": {
        "id": "apzxYI3RS37Q"
      },
      "source": [
        "model = tf.keras.models.Sequential([\n",
        "    \n",
        "    \n",
        "    tf.keras.layers.Conv2D(64, (3,3), activation='relu', input_shape=(300, 300, 3)),\n",
        "    tf.keras.layers.MaxPooling2D(2, 2),\n",
        "    # The second convolution\n",
        "    tf.keras.layers.Conv2D(64, (3,3), activation='relu'),\n",
        "    tf.keras.layers.MaxPooling2D(2,2),\n",
        "    # The third convolution\n",
        "    tf.keras.layers.Conv2D(128, (3,3), activation='relu'),\n",
        "    tf.keras.layers.MaxPooling2D(2,2),\n",
        "    # The fourth convolution\n",
        "    tf.keras.layers.Conv2D(128, (3,3), activation='relu'),\n",
        "    tf.keras.layers.MaxPooling2D(2,2),\n",
        "    # Flatten the results to feed into a DNN\n",
        "    tf.keras.layers.Flatten(),\n",
        "    tf.keras.layers.Dropout(0.5),\n",
        "    # 512 neuron hidden layer\n",
        "    tf.keras.layers.Dense(512, activation='relu'),\n",
        "    tf.keras.layers.Dense(4, activation='softmax') #Four neurons and a softmax activation for output probabilities\n",
        "\n",
        "    \n",
        "])"
      ],
      "execution_count": 8,
      "outputs": []
    },
    {
      "cell_type": "code",
      "metadata": {
        "colab": {
          "base_uri": "https://localhost:8080/"
        },
        "id": "9fHHPi68S-GO",
        "outputId": "fcf0416a-35f7-4c16-c925-8fe197bfd3cb"
      },
      "source": [
        "model.summary()\n",
        "\n",
        "model.compile(loss = 'categorical_crossentropy', optimizer='rmsprop', metrics=['accuracy'])"
      ],
      "execution_count": 9,
      "outputs": [
        {
          "output_type": "stream",
          "text": [
            "Model: \"sequential\"\n",
            "_________________________________________________________________\n",
            "Layer (type)                 Output Shape              Param #   \n",
            "=================================================================\n",
            "conv2d (Conv2D)              (None, 298, 298, 64)      1792      \n",
            "_________________________________________________________________\n",
            "max_pooling2d (MaxPooling2D) (None, 149, 149, 64)      0         \n",
            "_________________________________________________________________\n",
            "conv2d_1 (Conv2D)            (None, 147, 147, 64)      36928     \n",
            "_________________________________________________________________\n",
            "max_pooling2d_1 (MaxPooling2 (None, 73, 73, 64)        0         \n",
            "_________________________________________________________________\n",
            "conv2d_2 (Conv2D)            (None, 71, 71, 128)       73856     \n",
            "_________________________________________________________________\n",
            "max_pooling2d_2 (MaxPooling2 (None, 35, 35, 128)       0         \n",
            "_________________________________________________________________\n",
            "conv2d_3 (Conv2D)            (None, 33, 33, 128)       147584    \n",
            "_________________________________________________________________\n",
            "max_pooling2d_3 (MaxPooling2 (None, 16, 16, 128)       0         \n",
            "_________________________________________________________________\n",
            "flatten (Flatten)            (None, 32768)             0         \n",
            "_________________________________________________________________\n",
            "dropout (Dropout)            (None, 32768)             0         \n",
            "_________________________________________________________________\n",
            "dense (Dense)                (None, 512)               16777728  \n",
            "_________________________________________________________________\n",
            "dense_1 (Dense)              (None, 4)                 2052      \n",
            "=================================================================\n",
            "Total params: 17,039,940\n",
            "Trainable params: 17,039,940\n",
            "Non-trainable params: 0\n",
            "_________________________________________________________________\n"
          ],
          "name": "stdout"
        }
      ]
    },
    {
      "cell_type": "code",
      "metadata": {
        "id": "Blhq2MAUeyGA",
        "colab": {
          "base_uri": "https://localhost:8080/"
        },
        "outputId": "96780c75-a6c4-4657-80c3-764c4d3a53fa"
      },
      "source": [
        "history = model.fit(\n",
        "            train_generator,\n",
        "            validation_data = validation_generator,\n",
        "            epochs = 20,\n",
        "            verbose = 1)"
      ],
      "execution_count": 10,
      "outputs": [
        {
          "output_type": "stream",
          "text": [
            "Epoch 1/20\n",
            "51/51 [==============================] - 45s 213ms/step - loss: 6.6874 - accuracy: 0.4160 - val_loss: 0.7610 - val_accuracy: 0.5949\n",
            "Epoch 2/20\n",
            "51/51 [==============================] - 9s 172ms/step - loss: 0.9296 - accuracy: 0.6545 - val_loss: 0.4785 - val_accuracy: 0.7975\n",
            "Epoch 3/20\n",
            "51/51 [==============================] - 9s 173ms/step - loss: 0.7034 - accuracy: 0.7292 - val_loss: 0.6408 - val_accuracy: 0.8354\n",
            "Epoch 4/20\n",
            "51/51 [==============================] - 9s 172ms/step - loss: 0.6052 - accuracy: 0.7680 - val_loss: 0.5704 - val_accuracy: 0.7848\n",
            "Epoch 5/20\n",
            "51/51 [==============================] - 9s 172ms/step - loss: 0.6405 - accuracy: 0.7974 - val_loss: 0.4355 - val_accuracy: 0.8101\n",
            "Epoch 6/20\n",
            "51/51 [==============================] - 9s 172ms/step - loss: 0.4680 - accuracy: 0.8246 - val_loss: 0.3731 - val_accuracy: 0.8354\n",
            "Epoch 7/20\n",
            "51/51 [==============================] - 9s 172ms/step - loss: 0.4357 - accuracy: 0.8506 - val_loss: 0.3060 - val_accuracy: 0.8608\n",
            "Epoch 8/20\n",
            "51/51 [==============================] - 9s 171ms/step - loss: 0.3135 - accuracy: 0.8820 - val_loss: 0.3243 - val_accuracy: 0.8608\n",
            "Epoch 9/20\n",
            "51/51 [==============================] - 9s 174ms/step - loss: 0.3848 - accuracy: 0.9150 - val_loss: 0.3231 - val_accuracy: 0.8861\n",
            "Epoch 10/20\n",
            "51/51 [==============================] - 9s 174ms/step - loss: 0.3350 - accuracy: 0.8992 - val_loss: 0.4055 - val_accuracy: 0.8734\n",
            "Epoch 11/20\n",
            "51/51 [==============================] - 9s 174ms/step - loss: 0.2880 - accuracy: 0.8995 - val_loss: 1.1410 - val_accuracy: 0.7468\n",
            "Epoch 12/20\n",
            "51/51 [==============================] - 9s 173ms/step - loss: 0.2388 - accuracy: 0.9123 - val_loss: 0.5590 - val_accuracy: 0.8481\n",
            "Epoch 13/20\n",
            "51/51 [==============================] - 9s 169ms/step - loss: 0.1645 - accuracy: 0.9434 - val_loss: 0.3140 - val_accuracy: 0.8861\n",
            "Epoch 14/20\n",
            "51/51 [==============================] - 9s 175ms/step - loss: 0.1984 - accuracy: 0.9300 - val_loss: 0.6510 - val_accuracy: 0.8608\n",
            "Epoch 15/20\n",
            "51/51 [==============================] - 9s 172ms/step - loss: 0.2089 - accuracy: 0.9357 - val_loss: 1.0782 - val_accuracy: 0.7848\n",
            "Epoch 16/20\n",
            "51/51 [==============================] - 9s 172ms/step - loss: 0.1359 - accuracy: 0.9589 - val_loss: 0.9333 - val_accuracy: 0.8734\n",
            "Epoch 17/20\n",
            "51/51 [==============================] - 9s 174ms/step - loss: 0.1557 - accuracy: 0.9507 - val_loss: 0.7053 - val_accuracy: 0.8987\n",
            "Epoch 18/20\n",
            "51/51 [==============================] - 9s 172ms/step - loss: 0.1843 - accuracy: 0.9606 - val_loss: 0.5053 - val_accuracy: 0.8101\n",
            "Epoch 19/20\n",
            "51/51 [==============================] - 9s 176ms/step - loss: 0.1472 - accuracy: 0.9565 - val_loss: 1.6794 - val_accuracy: 0.8481\n",
            "Epoch 20/20\n",
            "51/51 [==============================] - 9s 177ms/step - loss: 0.2498 - accuracy: 0.9507 - val_loss: 0.5477 - val_accuracy: 0.8861\n"
          ],
          "name": "stdout"
        }
      ]
    },
    {
      "cell_type": "markdown",
      "metadata": {
        "id": "MUZm-VZsAvuw"
      },
      "source": [
        "**Visualising Training and Validation accuracy**"
      ]
    },
    {
      "cell_type": "code",
      "metadata": {
        "id": "C2Fp6Se9rKuL",
        "colab": {
          "base_uri": "https://localhost:8080/",
          "height": 298
        },
        "outputId": "337fa17e-2267-44fa-8e25-64408c327129"
      },
      "source": [
        "import matplotlib.pyplot as plt\n",
        "acc = history.history['accuracy']\n",
        "val_acc = history.history['val_accuracy']\n",
        "loss = history.history['loss']\n",
        "val_loss = history.history['val_loss']\n",
        "\n",
        "epochs = range(len(acc))\n",
        "\n",
        "plt.plot(epochs, acc, 'r', label='Training accuracy')\n",
        "plt.plot(epochs, val_acc, 'b', label='Validation accuracy')\n",
        "plt.title('Training and validation accuracy')\n",
        "plt.legend(loc=0)\n",
        "plt.figure()\n",
        "\n",
        "\n",
        "plt.show()"
      ],
      "execution_count": 11,
      "outputs": [
        {
          "output_type": "display_data",
          "data": {
            "image/png": "[encoded data removed]",
            "text/plain": [
              "<Figure size 432x288 with 1 Axes>"
            ]
          },
          "metadata": {
            "tags": [],
            "needs_background": "light"
          }
        },
        {
          "output_type": "display_data",
          "data": {
            "text/plain": [
              "<Figure size 432x288 with 0 Axes>"
            ]
          },
          "metadata": {
            "tags": []
          }
        }
      ]
    },
    {
      "cell_type": "markdown",
      "metadata": {
        "id": "okED30NKA2XF"
      },
      "source": [
        "# Evaluating Model Performance\n",
        "\n"
      ]
    },
    {
      "cell_type": "code",
      "metadata": {
        "id": "obUz1xkWn9eH",
        "colab": {
          "base_uri": "https://localhost:8080/"
        },
        "outputId": "fe438fc9-53d7-46b7-a5f3-7d8253305dc5"
      },
      "source": [
        "#Initialising variables and lists to calculate accuracy\n",
        "\n",
        "true_labels = []\n",
        "pred_labels = []\n",
        "\n",
        "correct = 0\n",
        "total = 0\n",
        "\n",
        "for label in class_names: #Opening images by label \n",
        "    label_dir = test_dir + '/' + label\n",
        "\n",
        "    image_list = os.listdir(label_dir)\n",
        "\n",
        "    for img_name in image_list:\n",
        "      img_path = label_dir + '/' + img_name\n",
        "\n",
        "      img = keras.preprocessing.image.load_img(\n",
        "      img_path, target_size=(300, 300))\n",
        "\n",
        "      img_array = keras.preprocessing.image.img_to_array(img)\n",
        "      img_array = tf.expand_dims(img_array, 0) \n",
        "\n",
        "      prediction = model.predict(img_array)\n",
        "\n",
        "      true_labels.append(label)\n",
        "      pred_labels.append(class_names[np.argmax(prediction)])\n",
        "\n",
        "      if class_names[np.argmax(prediction)] == label:\n",
        "          correct +=1 #Counter for correct classifications\n",
        "\n",
        "      total +=1 \n",
        "\n",
        "print('Test Accuracy is {:.2f}%'.format(100*correct/total))"
      ],
      "execution_count": 12,
      "outputs": [
        {
          "output_type": "stream",
          "text": [
            "Test Accuracy is 88.24%\n"
          ],
          "name": "stdout"
        }
      ]
    },
    {
      "cell_type": "markdown",
      "metadata": {
        "id": "lL9XfDkHBkfN"
      },
      "source": [
        "**Confusion Matrix**"
      ]
    },
    {
      "cell_type": "code",
      "metadata": {
        "colab": {
          "base_uri": "https://localhost:8080/",
          "height": 606
        },
        "id": "3rkNasDV5HyK",
        "outputId": "8c5bed82-7892-4b69-9369-f6abfc09256d"
      },
      "source": [
        "import pandas as pd\n",
        "import seaborn as sn\n",
        "import matplotlib.pyplot as plt\n",
        "\n",
        "data = {'y_Actual':    true_labels,\n",
        "        'y_Predicted': pred_labels\n",
        "        }\n",
        "\n",
        "df = pd.DataFrame(data, columns=['y_Actual','y_Predicted'])\n",
        "confusion_matrix = pd.crosstab(df['y_Actual'], df['y_Predicted'], rownames=['Actual'], colnames=['Predicted'])\n",
        "\n",
        "fig_dims = (12, 10)\n",
        "fig, ax = plt.subplots(figsize=fig_dims)\n",
        "\n",
        "sn.heatmap(confusion_matrix, annot=True, ax = ax)\n",
        "plt.show()"
      ],
      "execution_count": 13,
      "outputs": [
        {
          "output_type": "display_data",
          "data": {
            "image/png": "[encoded data removed]",
            "text/plain": [
              "<Figure size 864x720 with 2 Axes>"
            ]
          },
          "metadata": {
            "tags": [],
            "needs_background": "light"
          }
        }
      ]
    },
    {
      "cell_type": "markdown",
      "metadata": {
        "id": "uxXpbTxLBoBa"
      },
      "source": [
        "# Section for user to upload and classify images "
      ]
    },
    {
      "cell_type": "code",
      "metadata": {
        "colab": {
          "resources": {
            "http://localhost:8080/nbextensions/google.colab/files.js": {
              "data": "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",
              "ok": true,
              "headers": [
                [
                  "content-type",
                  "application/javascript"
                ]
              ],
              "status": 200,
              "status_text": ""
            }
          },
          "base_uri": "https://localhost:8080/",
          "height": 39
        },
        "id": "MftjdQNc-e4T",
        "outputId": "1d2cf8a8-4729-49ef-c149-50eecc2ae93b"
      },
      "source": [
        "from google.colab import files\n",
        "\n",
        "uploaded = files.upload()\n",
        "\n",
        "for fn in uploaded.keys():\n",
        " \n",
        "  img_path = '/content/' + fn\n",
        "  \n",
        "  img = keras.preprocessing.image.load_img(\n",
        "  img_path, target_size=(300, 300))\n",
        "\n",
        "  img_array = keras.preprocessing.image.img_to_array(img)\n",
        "  img_array = tf.expand_dims(img_array, 0) \n",
        "\n",
        "  prediction = model.predict(img_array)\n",
        "  \n",
        "\n",
        "  print(\n",
        "      fn + \" most likely belongs to {} with a {:.2f} percent confidence.\"\n",
        "      .format(class_names[np.argmax(prediction)], 100 * np.max(prediction)))\n"
      ],
      "execution_count": 14,
      "outputs": [
        {
          "output_type": "display_data",
          "data": {
            "text/html": [
              "\n",
              "     <input type=\"file\" id=\"files-dcfd0268-e4a2-41c6-bf5a-47810db7394d\" name=\"files[]\" multiple disabled\n",
              "        style=\"border:none\" />\n",
              "     <output id=\"result-dcfd0268-e4a2-41c6-bf5a-47810db7394d\">\n",
              "      Upload widget is only available when the cell has been executed in the\n",
              "      current browser session. Please rerun this cell to enable.\n",
              "      </output>\n",
              "      <script src=\"/nbextensions/google.colab/files.js\"></script> "
            ],
            "text/plain": [
              "<IPython.core.display.HTML object>"
            ]
          },
          "metadata": {
            "tags": []
          }
        }
      ]
    }
  ]
}